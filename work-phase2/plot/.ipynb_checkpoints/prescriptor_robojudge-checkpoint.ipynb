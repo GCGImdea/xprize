{
 "cells": [
  {
   "cell_type": "raw",
   "metadata": {
    "scrolled": false
   },
   "source": [
    "# Copyright 2020 (c) Cognizant Digital Business, Evolutionary AI. All rights reserved. Issued under the Apache 2.0 License."
   ]
  },
  {
   "cell_type": "markdown",
   "metadata": {
    "scrolled": false
   },
   "source": [
    "# Prescriptor robojudge\n",
    "Notebook for evaluating prescriptions using standard predictor.\n",
    "\n",
    "The main metric computed is based on how many other prescriptions\n",
    "each submission dominates on the pareto front of stringency vs cases."
   ]
  },
  {
   "cell_type": "code",
   "execution_count": 1,
   "metadata": {
    "scrolled": false
   },
   "outputs": [],
   "source": [
    "import os\n",
    "import matplotlib.pyplot as plt\n",
    "%matplotlib inline\n",
    "import numpy as np\n",
    "import pandas as pd\n",
    "\n",
    "from helpers.utils import IP_COLS as NPI_COLUMNS, _dot\n",
    "from helpers.prescriptor_scoring import weight_prescriptions_by_cost\n",
    "from helpers.prescriptor_scoring import generate_cases_and_stringency_for_prescriptions\n",
    "from helpers.prescriptor_scoring import compute_domination_df\n",
    "from helpers.prescriptor_scoring import compute_pareto_set\n",
    "from helpers.prescriptor_validation import validate_submission"
   ]
  },
  {
   "cell_type": "code",
   "execution_count": 2,
   "metadata": {
    "scrolled": false
   },
   "outputs": [],
   "source": [
    "# Can set these longer for better evaluation. Will increase eval time\n",
    "START_DATE = \"2020-11-01\"\n",
    "END_DATE = \"2021-05-10\"\n",
    "LATEST_DATA_URL = 'OxCGRT_latest.csv'\n",
    "GEO_FILE = \"countries_regions.csv\""
   ]
  },
  {
   "cell_type": "markdown",
   "metadata": {},
   "source": [
    "# Prepare Historical IP Data"
   ]
  },
  {
   "cell_type": "code",
   "execution_count": 3,
   "metadata": {},
   "outputs": [],
   "source": [
    "from helpers.predictor_scoring import load_dataset\n",
    "from helpers.scenario_generator import generate_scenario\n",
    "\n",
    "\n",
    "latest_df = load_dataset(LATEST_DATA_URL, GEO_FILE)"
   ]
  },
  {
   "cell_type": "code",
   "execution_count": 4,
   "metadata": {},
   "outputs": [],
   "source": [
    "IP_FILE = \"prescriptions/robojudge_test_scenario.csv\"\n",
    "countries = [\"Portugal\"]\n",
    "scenario_df = generate_scenario(START_DATE, END_DATE, latest_df, countries, scenario=\"Freeze\")\n",
    "scenario_df.to_csv(IP_FILE, index=False)"
   ]
  },
  {
   "cell_type": "markdown",
   "metadata": {},
   "source": [
    "# Generate some prescriptions"
   ]
  },
  {
   "cell_type": "code",
   "execution_count": 5,
   "metadata": {},
   "outputs": [],
   "source": [
    "# Cost weightings for each IP for each geo\n",
    "TEST_COST = \"uniform_random_costs.csv\""
   ]
  },
  {
   "cell_type": "code",
   "execution_count": 6,
   "metadata": {
    "scrolled": true
   },
   "outputs": [
    {
     "name": "stdout",
     "output_type": "stream",
     "text": [
      "Generating prescriptions from 2020-11-01 to 2021-05-10...\n",
      "Done!\n",
      "Generating prescriptions from 2020-11-01 to 2021-05-10...\n",
      "Done!\n"
     ]
    }
   ],
   "source": [
    "# Generate some random prescriptions\n",
    "for i in range(2):\n",
    "    output_file = \"./random_/prescriptions/random_presc_\"+ str(i+1) +\".csv\"\n",
    "    !python ./random_/prescribe.py -s {START_DATE} \\\n",
    "                                                                   -e {END_DATE} \\\n",
    "                                                                   -ip {IP_FILE} \\\n",
    "                                                                   -c {TEST_COST} \\\n",
    "                                                                   -o {output_file}"
   ]
  },
  {
   "cell_type": "code",
   "execution_count": 7,
   "metadata": {},
   "outputs": [
    {
     "name": "stdout",
     "output_type": "stream",
     "text": [
      "Generating prescriptions from 2020-11-01 to 2021-05-10...\n",
      "Done!\n"
     ]
    }
   ],
   "source": [
    "# Generate blind_greedy prescriptions\n",
    "output_file = \"./blind_greedy/prescriptions/blind_greedy.csv\"\n",
    "!python ./blind_greedy/prescribe.py -s {START_DATE} \\\n",
    "                                                                     -e {END_DATE} \\\n",
    "                                                                     -ip {IP_FILE} \\\n",
    "                                                                     -c {TEST_COST} \\\n",
    "                                                                     -o {output_file}"
   ]
  },
  {
   "cell_type": "code",
   "execution_count": 8,
   "metadata": {},
   "outputs": [
    {
     "name": "stdout",
     "output_type": "stream",
     "text": [
      "./prescriptions/uniform_random_costs-0.csv\n",
      "./prescriptions/uniform_random_costs-1.csv\n",
      "./prescriptions/uniform_random_costs-2.csv\n",
      "./prescriptions/uniform_random_costs-3.csv\n",
      "./prescriptions/uniform_random_costs-4.csv\n",
      "./prescriptions/uniform_random_costs-5.csv\n",
      "./prescriptions/uniform_random_costs-6.csv\n",
      "./prescriptions/uniform_random_costs-7.csv\n",
      "./prescriptions/uniform_random_costs-8.csv\n",
      "./prescriptions/uniform_random_costs-9.csv\n"
     ]
    }
   ],
   "source": [
    "files = './prescriptions/uniform_random_costs-%d.csv'\n",
    "df = None\n",
    "for i in range(10):\n",
    "    print(files.replace('%d', str(i)))\n",
    "    df_ = pd.read_csv(files.replace('%d', str(i)),\n",
    "                           parse_dates=['Date'],\n",
    "                           encoding=\"ISO-8859-1\",\n",
    "                           dtype={\"RegionName\": str},\n",
    "                           error_bad_lines=True)\n",
    "    df_ = df_[df_['CountryName'] == countries[0]]\n",
    "    df_[\"PrescriptionIndex\"] = i\n",
    "    if df is None:\n",
    "        df = df_\n",
    "    else:\n",
    "        df = df.append(df_)\n",
    "df.to_csv('./prescriptions/all.csv', index=False)"
   ]
  },
  {
   "cell_type": "code",
   "execution_count": 9,
   "metadata": {
    "scrolled": false
   },
   "outputs": [],
   "source": [
    "prescription_files = {\n",
    "#     'NeatExample': './neat_prescriptions_example.csv',\n",
    "    'Random1': './random_/prescriptions/random_presc_1.csv',\n",
    "    'Random2': './random_/prescriptions/random_presc_2.csv',\n",
    "    'BlindGreedy': './blind_greedy/prescriptions/blind_greedy.csv',\n",
    "    'ours': './prescriptions/all.csv',\n",
    "}"
   ]
  },
  {
   "cell_type": "code",
   "execution_count": 10,
   "metadata": {},
   "outputs": [
    {
     "name": "stdout",
     "output_type": "stream",
     "text": [
      "Random1: All good!\n",
      "Random2: All good!\n",
      "BlindGreedy: All good!\n",
      "ours: All good!\n"
     ]
    }
   ],
   "source": [
    "# Validate the prescription files\n",
    "for prescriptor_name, output_file in prescription_files.items():\n",
    "    errors = validate_submission(START_DATE, END_DATE, IP_FILE, output_file)\n",
    "    if errors:\n",
    "        for error in errors:\n",
    "            print(f\"{prescriptor_name}: {error}\")\n",
    "    else:\n",
    "        print(f\"{prescriptor_name}: All good!\")"
   ]
  },
  {
   "cell_type": "markdown",
   "metadata": {},
   "source": [
    "# Evaluate them"
   ]
  },
  {
   "cell_type": "code",
   "execution_count": 11,
   "metadata": {
    "scrolled": false
   },
   "outputs": [
    {
     "name": "stdout",
     "output_type": "stream",
     "text": [
      "Generating predictions for BlindGreedy\n",
      "Generated predictions for PrescriptionIndex 0\n",
      "Generated predictions for PrescriptionIndex 1\n",
      "Generated predictions for PrescriptionIndex 2\n",
      "Generated predictions for PrescriptionIndex 3\n",
      "Generated predictions for PrescriptionIndex 4\n",
      "Generated predictions for PrescriptionIndex 5\n",
      "Generated predictions for PrescriptionIndex 6\n",
      "Generated predictions for PrescriptionIndex 7\n",
      "Generated predictions for PrescriptionIndex 8\n",
      "Generated predictions for PrescriptionIndex 9\n",
      "Evaluated 10 PrescriptionIndex in 00:02:57 seconds\n",
      "Generating predictions for Random1\n",
      "Generated predictions for PrescriptionIndex 0\n",
      "Generated predictions for PrescriptionIndex 1\n",
      "Generated predictions for PrescriptionIndex 2\n",
      "Generated predictions for PrescriptionIndex 3\n",
      "Generated predictions for PrescriptionIndex 4\n",
      "Generated predictions for PrescriptionIndex 5\n",
      "Generated predictions for PrescriptionIndex 6\n",
      "Generated predictions for PrescriptionIndex 7\n",
      "Generated predictions for PrescriptionIndex 8\n",
      "Generated predictions for PrescriptionIndex 9\n",
      "Evaluated 10 PrescriptionIndex in 00:02:55 seconds\n",
      "Generating predictions for Random2\n",
      "Generated predictions for PrescriptionIndex 0\n",
      "Generated predictions for PrescriptionIndex 1\n",
      "Generated predictions for PrescriptionIndex 2\n",
      "Generated predictions for PrescriptionIndex 3\n",
      "Generated predictions for PrescriptionIndex 4\n",
      "Generated predictions for PrescriptionIndex 5\n",
      "Generated predictions for PrescriptionIndex 6\n",
      "Generated predictions for PrescriptionIndex 7\n",
      "Generated predictions for PrescriptionIndex 8\n",
      "Generated predictions for PrescriptionIndex 9\n",
      "Evaluated 10 PrescriptionIndex in 00:02:54 seconds\n",
      "Generating predictions for ours\n",
      "Generated predictions for PrescriptionIndex 0\n",
      "Generated predictions for PrescriptionIndex 1\n",
      "Generated predictions for PrescriptionIndex 2\n",
      "Generated predictions for PrescriptionIndex 3\n",
      "Generated predictions for PrescriptionIndex 4\n",
      "Generated predictions for PrescriptionIndex 5\n",
      "Generated predictions for PrescriptionIndex 6\n",
      "Generated predictions for PrescriptionIndex 7\n",
      "Generated predictions for PrescriptionIndex 8\n",
      "Generated predictions for PrescriptionIndex 9\n",
      "Evaluated 10 PrescriptionIndex in 00:02:55 seconds\n"
     ]
    }
   ],
   "source": [
    "# Collect case and stringency data for all prescriptors\n",
    "dfs = []\n",
    "for prescriptor_name, prescription_file in sorted(prescription_files.items()):\n",
    "    print(\"Generating predictions for\", prescriptor_name)\n",
    "    df, _ = generate_cases_and_stringency_for_prescriptions(START_DATE, END_DATE, prescription_file, TEST_COST)\n",
    "    df['PrescriptorName'] = prescriptor_name\n",
    "    dfs.append(df)\n",
    "df = pd.concat(dfs)"
   ]
  },
  {
   "cell_type": "code",
   "execution_count": 29,
   "metadata": {
    "scrolled": true
   },
   "outputs": [
    {
     "data": {
      "text/html": [
       "<div>\n",
       "<style scoped>\n",
       "    .dataframe tbody tr th:only-of-type {\n",
       "        vertical-align: middle;\n",
       "    }\n",
       "\n",
       "    .dataframe tbody tr th {\n",
       "        vertical-align: top;\n",
       "    }\n",
       "\n",
       "    .dataframe thead th {\n",
       "        text-align: right;\n",
       "    }\n",
       "</style>\n",
       "<table border=\"1\" class=\"dataframe\">\n",
       "  <thead>\n",
       "    <tr style=\"text-align: right;\">\n",
       "      <th></th>\n",
       "      <th>CountryName</th>\n",
       "      <th>RegionName</th>\n",
       "      <th>PrescriptionIndex</th>\n",
       "      <th>PredictedDailyNewCases</th>\n",
       "      <th>Stringency</th>\n",
       "      <th>PrescriptorName</th>\n",
       "    </tr>\n",
       "  </thead>\n",
       "  <tbody>\n",
       "    <tr>\n",
       "      <th>0</th>\n",
       "      <td>Portugal</td>\n",
       "      <td>NaN</td>\n",
       "      <td>0</td>\n",
       "      <td>9836.462813</td>\n",
       "      <td>0.200000</td>\n",
       "      <td>BlindGreedy</td>\n",
       "    </tr>\n",
       "    <tr>\n",
       "      <th>1</th>\n",
       "      <td>Portugal</td>\n",
       "      <td>NaN</td>\n",
       "      <td>1</td>\n",
       "      <td>9339.514974</td>\n",
       "      <td>0.720000</td>\n",
       "      <td>BlindGreedy</td>\n",
       "    </tr>\n",
       "    <tr>\n",
       "      <th>2</th>\n",
       "      <td>Portugal</td>\n",
       "      <td>NaN</td>\n",
       "      <td>2</td>\n",
       "      <td>9012.389086</td>\n",
       "      <td>0.980000</td>\n",
       "      <td>BlindGreedy</td>\n",
       "    </tr>\n",
       "    <tr>\n",
       "      <th>3</th>\n",
       "      <td>Portugal</td>\n",
       "      <td>NaN</td>\n",
       "      <td>3</td>\n",
       "      <td>8751.820149</td>\n",
       "      <td>1.820000</td>\n",
       "      <td>BlindGreedy</td>\n",
       "    </tr>\n",
       "    <tr>\n",
       "      <th>4</th>\n",
       "      <td>Portugal</td>\n",
       "      <td>NaN</td>\n",
       "      <td>4</td>\n",
       "      <td>8585.771530</td>\n",
       "      <td>3.230000</td>\n",
       "      <td>BlindGreedy</td>\n",
       "    </tr>\n",
       "    <tr>\n",
       "      <th>5</th>\n",
       "      <td>Portugal</td>\n",
       "      <td>NaN</td>\n",
       "      <td>5</td>\n",
       "      <td>8304.613046</td>\n",
       "      <td>5.550000</td>\n",
       "      <td>BlindGreedy</td>\n",
       "    </tr>\n",
       "    <tr>\n",
       "      <th>6</th>\n",
       "      <td>Portugal</td>\n",
       "      <td>NaN</td>\n",
       "      <td>6</td>\n",
       "      <td>7660.073630</td>\n",
       "      <td>7.980000</td>\n",
       "      <td>BlindGreedy</td>\n",
       "    </tr>\n",
       "    <tr>\n",
       "      <th>7</th>\n",
       "      <td>Portugal</td>\n",
       "      <td>NaN</td>\n",
       "      <td>7</td>\n",
       "      <td>7595.790206</td>\n",
       "      <td>9.880000</td>\n",
       "      <td>BlindGreedy</td>\n",
       "    </tr>\n",
       "    <tr>\n",
       "      <th>8</th>\n",
       "      <td>Portugal</td>\n",
       "      <td>NaN</td>\n",
       "      <td>8</td>\n",
       "      <td>7417.623420</td>\n",
       "      <td>14.800000</td>\n",
       "      <td>BlindGreedy</td>\n",
       "    </tr>\n",
       "    <tr>\n",
       "      <th>9</th>\n",
       "      <td>Portugal</td>\n",
       "      <td>NaN</td>\n",
       "      <td>9</td>\n",
       "      <td>7340.228127</td>\n",
       "      <td>18.260000</td>\n",
       "      <td>BlindGreedy</td>\n",
       "    </tr>\n",
       "    <tr>\n",
       "      <th>0</th>\n",
       "      <td>Portugal</td>\n",
       "      <td>NaN</td>\n",
       "      <td>0</td>\n",
       "      <td>8413.459332</td>\n",
       "      <td>12.004450</td>\n",
       "      <td>Random1</td>\n",
       "    </tr>\n",
       "    <tr>\n",
       "      <th>1</th>\n",
       "      <td>Portugal</td>\n",
       "      <td>NaN</td>\n",
       "      <td>1</td>\n",
       "      <td>8408.798274</td>\n",
       "      <td>12.238953</td>\n",
       "      <td>Random1</td>\n",
       "    </tr>\n",
       "    <tr>\n",
       "      <th>2</th>\n",
       "      <td>Portugal</td>\n",
       "      <td>NaN</td>\n",
       "      <td>2</td>\n",
       "      <td>8421.617816</td>\n",
       "      <td>12.187068</td>\n",
       "      <td>Random1</td>\n",
       "    </tr>\n",
       "    <tr>\n",
       "      <th>3</th>\n",
       "      <td>Portugal</td>\n",
       "      <td>NaN</td>\n",
       "      <td>3</td>\n",
       "      <td>8293.119386</td>\n",
       "      <td>12.809948</td>\n",
       "      <td>Random1</td>\n",
       "    </tr>\n",
       "    <tr>\n",
       "      <th>4</th>\n",
       "      <td>Portugal</td>\n",
       "      <td>NaN</td>\n",
       "      <td>4</td>\n",
       "      <td>8427.785263</td>\n",
       "      <td>11.841152</td>\n",
       "      <td>Random1</td>\n",
       "    </tr>\n",
       "    <tr>\n",
       "      <th>5</th>\n",
       "      <td>Portugal</td>\n",
       "      <td>NaN</td>\n",
       "      <td>5</td>\n",
       "      <td>8361.753417</td>\n",
       "      <td>11.298743</td>\n",
       "      <td>Random1</td>\n",
       "    </tr>\n",
       "    <tr>\n",
       "      <th>6</th>\n",
       "      <td>Portugal</td>\n",
       "      <td>NaN</td>\n",
       "      <td>6</td>\n",
       "      <td>8357.460998</td>\n",
       "      <td>11.937592</td>\n",
       "      <td>Random1</td>\n",
       "    </tr>\n",
       "    <tr>\n",
       "      <th>7</th>\n",
       "      <td>Portugal</td>\n",
       "      <td>NaN</td>\n",
       "      <td>7</td>\n",
       "      <td>8396.117199</td>\n",
       "      <td>11.980000</td>\n",
       "      <td>Random1</td>\n",
       "    </tr>\n",
       "    <tr>\n",
       "      <th>8</th>\n",
       "      <td>Portugal</td>\n",
       "      <td>NaN</td>\n",
       "      <td>8</td>\n",
       "      <td>8349.027347</td>\n",
       "      <td>12.317120</td>\n",
       "      <td>Random1</td>\n",
       "    </tr>\n",
       "    <tr>\n",
       "      <th>9</th>\n",
       "      <td>Portugal</td>\n",
       "      <td>NaN</td>\n",
       "      <td>9</td>\n",
       "      <td>8419.053559</td>\n",
       "      <td>11.779476</td>\n",
       "      <td>Random1</td>\n",
       "    </tr>\n",
       "    <tr>\n",
       "      <th>0</th>\n",
       "      <td>Portugal</td>\n",
       "      <td>NaN</td>\n",
       "      <td>0</td>\n",
       "      <td>8373.252369</td>\n",
       "      <td>11.616911</td>\n",
       "      <td>Random2</td>\n",
       "    </tr>\n",
       "    <tr>\n",
       "      <th>1</th>\n",
       "      <td>Portugal</td>\n",
       "      <td>NaN</td>\n",
       "      <td>1</td>\n",
       "      <td>8294.572269</td>\n",
       "      <td>11.692304</td>\n",
       "      <td>Random2</td>\n",
       "    </tr>\n",
       "    <tr>\n",
       "      <th>2</th>\n",
       "      <td>Portugal</td>\n",
       "      <td>NaN</td>\n",
       "      <td>2</td>\n",
       "      <td>8448.337474</td>\n",
       "      <td>12.185026</td>\n",
       "      <td>Random2</td>\n",
       "    </tr>\n",
       "    <tr>\n",
       "      <th>3</th>\n",
       "      <td>Portugal</td>\n",
       "      <td>NaN</td>\n",
       "      <td>3</td>\n",
       "      <td>8314.510524</td>\n",
       "      <td>12.037173</td>\n",
       "      <td>Random2</td>\n",
       "    </tr>\n",
       "    <tr>\n",
       "      <th>4</th>\n",
       "      <td>Portugal</td>\n",
       "      <td>NaN</td>\n",
       "      <td>4</td>\n",
       "      <td>8339.762865</td>\n",
       "      <td>11.965393</td>\n",
       "      <td>Random2</td>\n",
       "    </tr>\n",
       "    <tr>\n",
       "      <th>5</th>\n",
       "      <td>Portugal</td>\n",
       "      <td>NaN</td>\n",
       "      <td>5</td>\n",
       "      <td>8399.768337</td>\n",
       "      <td>12.271990</td>\n",
       "      <td>Random2</td>\n",
       "    </tr>\n",
       "    <tr>\n",
       "      <th>6</th>\n",
       "      <td>Portugal</td>\n",
       "      <td>NaN</td>\n",
       "      <td>6</td>\n",
       "      <td>8432.379847</td>\n",
       "      <td>11.916335</td>\n",
       "      <td>Random2</td>\n",
       "    </tr>\n",
       "    <tr>\n",
       "      <th>7</th>\n",
       "      <td>Portugal</td>\n",
       "      <td>NaN</td>\n",
       "      <td>7</td>\n",
       "      <td>8414.093388</td>\n",
       "      <td>11.854503</td>\n",
       "      <td>Random2</td>\n",
       "    </tr>\n",
       "    <tr>\n",
       "      <th>8</th>\n",
       "      <td>Portugal</td>\n",
       "      <td>NaN</td>\n",
       "      <td>8</td>\n",
       "      <td>8408.439470</td>\n",
       "      <td>12.067068</td>\n",
       "      <td>Random2</td>\n",
       "    </tr>\n",
       "    <tr>\n",
       "      <th>9</th>\n",
       "      <td>Portugal</td>\n",
       "      <td>NaN</td>\n",
       "      <td>9</td>\n",
       "      <td>8393.667526</td>\n",
       "      <td>12.133874</td>\n",
       "      <td>Random2</td>\n",
       "    </tr>\n",
       "    <tr>\n",
       "      <th>0</th>\n",
       "      <td>Portugal</td>\n",
       "      <td>NaN</td>\n",
       "      <td>0</td>\n",
       "      <td>7066.747516</td>\n",
       "      <td>14.983403</td>\n",
       "      <td>ours</td>\n",
       "    </tr>\n",
       "    <tr>\n",
       "      <th>1</th>\n",
       "      <td>Portugal</td>\n",
       "      <td>NaN</td>\n",
       "      <td>1</td>\n",
       "      <td>6934.646299</td>\n",
       "      <td>31.965602</td>\n",
       "      <td>ours</td>\n",
       "    </tr>\n",
       "    <tr>\n",
       "      <th>2</th>\n",
       "      <td>Portugal</td>\n",
       "      <td>NaN</td>\n",
       "      <td>2</td>\n",
       "      <td>6977.732722</td>\n",
       "      <td>16.276073</td>\n",
       "      <td>ours</td>\n",
       "    </tr>\n",
       "    <tr>\n",
       "      <th>3</th>\n",
       "      <td>Portugal</td>\n",
       "      <td>NaN</td>\n",
       "      <td>3</td>\n",
       "      <td>6941.361026</td>\n",
       "      <td>23.474503</td>\n",
       "      <td>ours</td>\n",
       "    </tr>\n",
       "    <tr>\n",
       "      <th>4</th>\n",
       "      <td>Portugal</td>\n",
       "      <td>NaN</td>\n",
       "      <td>4</td>\n",
       "      <td>6934.646299</td>\n",
       "      <td>31.965602</td>\n",
       "      <td>ours</td>\n",
       "    </tr>\n",
       "    <tr>\n",
       "      <th>5</th>\n",
       "      <td>Portugal</td>\n",
       "      <td>NaN</td>\n",
       "      <td>5</td>\n",
       "      <td>6941.361026</td>\n",
       "      <td>23.474503</td>\n",
       "      <td>ours</td>\n",
       "    </tr>\n",
       "    <tr>\n",
       "      <th>6</th>\n",
       "      <td>Portugal</td>\n",
       "      <td>NaN</td>\n",
       "      <td>6</td>\n",
       "      <td>6941.361026</td>\n",
       "      <td>23.474503</td>\n",
       "      <td>ours</td>\n",
       "    </tr>\n",
       "    <tr>\n",
       "      <th>7</th>\n",
       "      <td>Portugal</td>\n",
       "      <td>NaN</td>\n",
       "      <td>7</td>\n",
       "      <td>7026.104141</td>\n",
       "      <td>15.109058</td>\n",
       "      <td>ours</td>\n",
       "    </tr>\n",
       "    <tr>\n",
       "      <th>8</th>\n",
       "      <td>Portugal</td>\n",
       "      <td>NaN</td>\n",
       "      <td>8</td>\n",
       "      <td>6982.580085</td>\n",
       "      <td>17.240471</td>\n",
       "      <td>ours</td>\n",
       "    </tr>\n",
       "    <tr>\n",
       "      <th>9</th>\n",
       "      <td>Portugal</td>\n",
       "      <td>NaN</td>\n",
       "      <td>9</td>\n",
       "      <td>6990.242926</td>\n",
       "      <td>18.798586</td>\n",
       "      <td>ours</td>\n",
       "    </tr>\n",
       "  </tbody>\n",
       "</table>\n",
       "</div>"
      ],
      "text/plain": [
       "  CountryName  RegionName  PrescriptionIndex  PredictedDailyNewCases  \\\n",
       "0    Portugal         NaN                  0             9836.462813   \n",
       "1    Portugal         NaN                  1             9339.514974   \n",
       "2    Portugal         NaN                  2             9012.389086   \n",
       "3    Portugal         NaN                  3             8751.820149   \n",
       "4    Portugal         NaN                  4             8585.771530   \n",
       "5    Portugal         NaN                  5             8304.613046   \n",
       "6    Portugal         NaN                  6             7660.073630   \n",
       "7    Portugal         NaN                  7             7595.790206   \n",
       "8    Portugal         NaN                  8             7417.623420   \n",
       "9    Portugal         NaN                  9             7340.228127   \n",
       "0    Portugal         NaN                  0             8413.459332   \n",
       "1    Portugal         NaN                  1             8408.798274   \n",
       "2    Portugal         NaN                  2             8421.617816   \n",
       "3    Portugal         NaN                  3             8293.119386   \n",
       "4    Portugal         NaN                  4             8427.785263   \n",
       "5    Portugal         NaN                  5             8361.753417   \n",
       "6    Portugal         NaN                  6             8357.460998   \n",
       "7    Portugal         NaN                  7             8396.117199   \n",
       "8    Portugal         NaN                  8             8349.027347   \n",
       "9    Portugal         NaN                  9             8419.053559   \n",
       "0    Portugal         NaN                  0             8373.252369   \n",
       "1    Portugal         NaN                  1             8294.572269   \n",
       "2    Portugal         NaN                  2             8448.337474   \n",
       "3    Portugal         NaN                  3             8314.510524   \n",
       "4    Portugal         NaN                  4             8339.762865   \n",
       "5    Portugal         NaN                  5             8399.768337   \n",
       "6    Portugal         NaN                  6             8432.379847   \n",
       "7    Portugal         NaN                  7             8414.093388   \n",
       "8    Portugal         NaN                  8             8408.439470   \n",
       "9    Portugal         NaN                  9             8393.667526   \n",
       "0    Portugal         NaN                  0             7066.747516   \n",
       "1    Portugal         NaN                  1             6934.646299   \n",
       "2    Portugal         NaN                  2             6977.732722   \n",
       "3    Portugal         NaN                  3             6941.361026   \n",
       "4    Portugal         NaN                  4             6934.646299   \n",
       "5    Portugal         NaN                  5             6941.361026   \n",
       "6    Portugal         NaN                  6             6941.361026   \n",
       "7    Portugal         NaN                  7             7026.104141   \n",
       "8    Portugal         NaN                  8             6982.580085   \n",
       "9    Portugal         NaN                  9             6990.242926   \n",
       "\n",
       "   Stringency PrescriptorName  \n",
       "0    0.200000     BlindGreedy  \n",
       "1    0.720000     BlindGreedy  \n",
       "2    0.980000     BlindGreedy  \n",
       "3    1.820000     BlindGreedy  \n",
       "4    3.230000     BlindGreedy  \n",
       "5    5.550000     BlindGreedy  \n",
       "6    7.980000     BlindGreedy  \n",
       "7    9.880000     BlindGreedy  \n",
       "8   14.800000     BlindGreedy  \n",
       "9   18.260000     BlindGreedy  \n",
       "0   12.004450         Random1  \n",
       "1   12.238953         Random1  \n",
       "2   12.187068         Random1  \n",
       "3   12.809948         Random1  \n",
       "4   11.841152         Random1  \n",
       "5   11.298743         Random1  \n",
       "6   11.937592         Random1  \n",
       "7   11.980000         Random1  \n",
       "8   12.317120         Random1  \n",
       "9   11.779476         Random1  \n",
       "0   11.616911         Random2  \n",
       "1   11.692304         Random2  \n",
       "2   12.185026         Random2  \n",
       "3   12.037173         Random2  \n",
       "4   11.965393         Random2  \n",
       "5   12.271990         Random2  \n",
       "6   11.916335         Random2  \n",
       "7   11.854503         Random2  \n",
       "8   12.067068         Random2  \n",
       "9   12.133874         Random2  \n",
       "0   14.983403            ours  \n",
       "1   31.965602            ours  \n",
       "2   16.276073            ours  \n",
       "3   23.474503            ours  \n",
       "4   31.965602            ours  \n",
       "5   23.474503            ours  \n",
       "6   23.474503            ours  \n",
       "7   15.109058            ours  \n",
       "8   17.240471            ours  \n",
       "9   18.798586            ours  "
      ]
     },
     "execution_count": 29,
     "metadata": {},
     "output_type": "execute_result"
    }
   ],
   "source": [
    "df[df['CountryName'] == countries[0]]"
   ]
  },
  {
   "cell_type": "code",
   "execution_count": 13,
   "metadata": {
    "scrolled": true
   },
   "outputs": [
    {
     "name": "stdout",
     "output_type": "stream",
     "text": [
      "Computing domination for Portugal nan\n"
     ]
    }
   ],
   "source": [
    "ddf = compute_domination_df(df)"
   ]
  },
  {
   "cell_type": "code",
   "execution_count": 14,
   "metadata": {
    "scrolled": false
   },
   "outputs": [
    {
     "data": {
      "text/plain": [
       "DominatingName\n",
       "BlindGreedy    20\n",
       "Random2         8\n",
       "Random1         7\n",
       "ours            1\n",
       "Name: DominatedIndex, dtype: int64"
      ]
     },
     "execution_count": 14,
     "metadata": {},
     "output_type": "execute_result"
    }
   ],
   "source": [
    "# Get number of dominated prescriptions for each submission. This is the \"Domination Count\"\n",
    "ddf.groupby('DominatingName').count().sort_values('DominatedIndex', ascending=False)['DominatedIndex']"
   ]
  },
  {
   "cell_type": "code",
   "execution_count": 15,
   "metadata": {},
   "outputs": [],
   "source": [
    "def plot_pareto_curve(objective1_list, objective2_list):\n",
    "    \"\"\"\n",
    "    Plot the pareto curve given the objective values for a set of solutions.\n",
    "    This curve indicates the area dominated by the solution set, i.e., \n",
    "    every point up and to the right is dominated.\n",
    "    \"\"\"\n",
    "    \n",
    "    # Compute pareto set from full solution set.\n",
    "    objective1_pareto, objective2_pareto = compute_pareto_set(objective1_list, \n",
    "                                                              objective2_list)\n",
    "    \n",
    "    # Sort by first objective.\n",
    "    objective1_pareto, objective2_pareto = list(zip(*sorted(zip(objective1_pareto,\n",
    "                                                                objective2_pareto))))\n",
    "    \n",
    "    # Compute the coordinates to plot.\n",
    "    xs = []\n",
    "    ys = []\n",
    "    \n",
    "    xs.append(objective1_pareto[0])\n",
    "    ys.append(objective2_pareto[0])\n",
    "    \n",
    "    for i in range(0, len(objective1_pareto)-1):\n",
    "        \n",
    "        # Add intermediate point between successive solutions\n",
    "        xs.append(objective1_pareto[i+1])\n",
    "        ys.append(objective2_pareto[i])\n",
    "        \n",
    "        # Add next solution on front\n",
    "        xs.append(objective1_pareto[i+1])\n",
    "        ys.append(objective2_pareto[i+1])\n",
    "        \n",
    "    plt.plot(xs, ys)"
   ]
  },
  {
   "cell_type": "code",
   "execution_count": 16,
   "metadata": {
    "scrolled": false
   },
   "outputs": [
    {
     "data": {
      "image/png": "[encoded data removed]",
      "text/plain": [
       "<Figure size 720x576 with 1 Axes>"
      ]
     },
     "metadata": {
      "needs_background": "light"
     },
     "output_type": "display_data"
    }
   ],
   "source": [
    "# Plot overall stringency and cases of each prescription\n",
    "plt.figure(figsize=(10,8))\n",
    "for prescriptor_name in prescription_files:\n",
    "    pdf = df[df['PrescriptorName'] == prescriptor_name]\n",
    "    overall_pdf = pdf.groupby('PrescriptionIndex').mean().reset_index()\n",
    "    plt.scatter(overall_pdf['Stringency'],\n",
    "                overall_pdf['PredictedDailyNewCases'], \n",
    "                label=prescriptor_name)\n",
    "    plot_pareto_curve(list(overall_pdf['Stringency']),\n",
    "                      list(overall_pdf['PredictedDailyNewCases']))\n",
    "plt.xlabel('Mean stringency')\n",
    "plt.ylabel('Mean cases per day per geo')\n",
    "plt.legend()\n",
    "plt.show()"
   ]
  },
  {
   "cell_type": "code",
   "execution_count": 30,
   "metadata": {
    "scrolled": false
   },
   "outputs": [
    {
     "data": {
      "text/plain": [
       "<AxesSubplot:xlabel='Date', ylabel='Stringency'>"
      ]
     },
     "execution_count": 30,
     "metadata": {},
     "output_type": "execute_result"
    },
    {
     "data": {
      "image/png": "[encoded data removed]",
      "text/plain": [
       "<Figure size 720x576 with 1 Axes>"
      ]
     },
     "metadata": {
      "needs_background": "light"
     },
     "output_type": "display_data"
    }
   ],
   "source": [
    "# Plot stacked line chart of npis over time for a prescription for a particular geo\n",
    "\n",
    "#submission_file = 'covid_xprize.examples/prescriptors/neat/test_prescriptions/pres.csv'\n",
    "submission_file = './prescriptions/all.csv'\n",
    "\n",
    "prescription_index = 9\n",
    "country_name = countries[0]\n",
    "region_name = None\n",
    "NPI_COLUMNS = [col.replace('.', ' ') for col in NPI_COLUMNS]\n",
    "\n",
    "pdf = pd.read_csv(submission_file)\n",
    "gdf = pdf[(pdf['PrescriptionIndex'] == prescription_index) &\n",
    "          (pdf['CountryName'] == country_name) &\n",
    "          (pdf['RegionName'].isna() if region_name is None else (pdf['RegionName'] == 'region_name'))]\n",
    "gdf.plot.area(x='Date', y=NPI_COLUMNS, figsize=(10,8), ylabel='Stringency')"
   ]
  },
  {
   "cell_type": "code",
   "execution_count": null,
   "metadata": {},
   "outputs": [],
   "source": []
  }
 ],
 "metadata": {
  "kernelspec": {
   "display_name": "Python 3",
   "language": "python",
   "name": "python3"
  },
  "language_info": {
   "codemirror_mode": {
    "name": "ipython",
    "version": 3
   },
   "file_extension": ".py",
   "mimetype": "text/x-python",
   "name": "python",
   "nbconvert_exporter": "python",
   "pygments_lexer": "ipython3",
   "version": "3.8.6"
  }
 },
 "nbformat": 4,
 "nbformat_minor": 4
}
